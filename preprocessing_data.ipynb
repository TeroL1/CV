{
 "cells": [
  {
   "cell_type": "code",
   "execution_count": null,
   "id": "3c8d9f65",
   "metadata": {},
   "outputs": [],
   "source": [
    "import os"
   ]
  },
  {
   "cell_type": "code",
   "execution_count": null,
   "id": "0ae14ff5",
   "metadata": {},
   "outputs": [],
   "source": [
    "def split_data(path):\n",
    "    for index, file in enumerate(os.listdir(path)):\n",
    "        current = path + '/' + file\n",
    "\n",
    "        if index % 10 == 8:\n",
    "            os.rename(current, path + '/' + 'val_' + file)\n",
    "\n",
    "        elif index % 10 == 9:\n",
    "            os.rename(current, path + '/' + 'test_' + file)\n",
    "\n",
    "        else:\n",
    "            os.rename(current, path + '/' + 'train_' + file)"
   ]
  },
  {
   "cell_type": "code",
   "execution_count": null,
   "id": "c2ff49a8",
   "metadata": {},
   "outputs": [],
   "source": [
    "current_dir = os.getcwd()\n",
    "\n",
    "split_data(current_dir + '/Darwin/img')\n",
    "split_data(current_dir + '/Darwin/mask')"
   ]
  }
 ],
 "metadata": {
  "language_info": {
   "name": "python"
  }
 },
 "nbformat": 4,
 "nbformat_minor": 5
}
